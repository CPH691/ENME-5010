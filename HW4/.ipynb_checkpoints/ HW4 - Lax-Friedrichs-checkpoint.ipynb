{
 "cells": [
  {
   "cell_type": "code",
   "execution_count": 25,
   "id": "1eb79652",
   "metadata": {},
   "outputs": [],
   "source": [
    "import numpy as np\n",
    "from matplotlib import pyplot as plt\n",
    "import pandas as pd"
   ]
  },
  {
   "cell_type": "code",
   "execution_count": 26,
   "id": "ef5f63c8",
   "metadata": {},
   "outputs": [],
   "source": [
    "# Setting up initial parameters\n",
    "dx = .25 #delta x\n",
    "c = .5 #wave speed\n",
    "cfl = 1.25 #courant number\n",
    "xt = 25 #total distance x\n",
    "Nx = int(xt/dx + 1) #number of steps in x\n",
    "dt = (cfl*dx)/c #delta t\n",
    "tt = 10 #total time t\n",
    "Nt = int(tt/dt + 1) #number of steps in t"
   ]
  },
  {
   "cell_type": "code",
   "execution_count": 27,
   "id": "3ec72e62",
   "metadata": {},
   "outputs": [],
   "source": [
    "#Setting up initial conditions\n",
    "IC = []\n",
    "\n",
    "#Making a list of x and t\n",
    "x = [0]\n",
    "for i in range(1,Nx):\n",
    "    x.append(i*dx)\n",
    "#print(x)\n",
    "t = [0]\n",
    "for i in range(1,Nt):\n",
    "    t.append(i*dt)\n",
    "#print(t)\n",
    "#Creating initial conditions\n",
    "for i in range(0,Nx):\n",
    "    if 0<=x[i]<=3:\n",
    "        IC.append(x[i])\n",
    "    elif 3<=x[i]<=6:\n",
    "        IC.append(6-x[i])\n",
    "    else:\n",
    "        IC.append(0)\n",
    "#print(IC)"
   ]
  },
  {
   "cell_type": "code",
   "execution_count": 28,
   "id": "294e36ec",
   "metadata": {},
   "outputs": [],
   "source": [
    "#Creating the exact solution\n",
    "def exact(dx,c,cfl,Nx,dt,Nt,IC,x,t):\n",
    "    u = np.array(IC) #initalize u with the initial conditions\n",
    "    u = u[np.newaxis,:] #add the time axis to the previously 1D array\n",
    "    for n in range (0,Nt): #loop in time\n",
    "        u = np.vstack([u,np.zeros(Nx)]) #add the new row of 0's to be changed\n",
    "        for i in range (0,Nx): #loop in space\n",
    "            loc = dx*i - c*dt*n #find the location of the exact point by x - c*t (dx*i=x, dt*n=t)\n",
    "            if 0<=loc<=3:\n",
    "                u[n,i] = (loc)\n",
    "            elif 3<=loc<=6:\n",
    "                u[n,i] = (6-loc)\n",
    "            else:\n",
    "                u[n,i] = 0\n",
    "\n",
    "    return u\n",
    "\n",
    "def FTBS(dx,c,cfl,Nx,dt,Nt,IC,x,t):\n",
    "    u = np.array(IC) #initalize u with the initial conditions\n",
    "    u = u[np.newaxis,:] #add the time axis to the previously 1D array\n",
    "    for n in range (0,Nt): #loop in time\n",
    "        u = np.vstack([u,np.zeros(Nx)]) #add the new row of 0's to be changed\n",
    "        for i in range (0,Nx): #loop in space\n",
    "            u[n+1,i] = u[n,i] - cfl*(u[n,i]-u[n,i-1]) #FTBS\n",
    "    return u\n",
    "\n",
    "def FTCS(dx,c,cfl,Nx,dt,Nt,IC,x,t):\n",
    "    u = np.array(IC) #initalize u with the initial conditions\n",
    "    u = u[np.newaxis,:] #add the time axis to the previously 1D array\n",
    "    for n in range (0,Nt): #loop in time\n",
    "        u = np.vstack([u,np.zeros(Nx)]) #add the new row of 0's to be changed\n",
    "        for i in range (0,Nx): #loop in space\n",
    "            if i+1 >= Nx: #fixing index issue from i+1 reaching too high a value\n",
    "                u[n+1,i] = 0\n",
    "            else:\n",
    "                u[n+1,i] = u[n,i] - (cfl/2)*(u[n,i+1]-u[n,i-1]) #FTCS\n",
    "    return u\n",
    "\n",
    "def LAXF(dx,c,cfl,Nx,dt,Nt,IC,x,t):\n",
    "    u = np.array(IC) #initalize u with the initial conditions\n",
    "    u = u[np.newaxis,:] #add the time axis to the previously 1D array\n",
    "    for n in range (0,Nt): #loop in time\n",
    "        u = np.vstack([u,np.zeros(Nx)]) #add the new row of 0's to be changed\n",
    "        for i in range (0,Nx): #loop in space\n",
    "            if i+1 >= Nx: #fixing index issue from i+1 reaching too high a value\n",
    "                u[n+1,i] = 0\n",
    "            else:\n",
    "                u[n+1,i] = (.5)*(u[n,i+1] + u[n,i-1]) - (cfl/2)*(u[n,i+1]-u[n,i-1]) #Lax-Friedrichs\n",
    "    return u\n",
    "\n",
    "uexact = exact(dx,c,cfl,Nx,dt,Nt,IC,x,t)\n",
    "uftbs = FTBS(dx,c,cfl,Nx,dt,Nt,IC,x,t)\n",
    "uftcs = FTCS(dx,c,cfl,Nx,dt,Nt,IC,x,t)\n",
    "ulaxf = LAXF(dx,c,cfl,Nx,dt,Nt,IC,x,t)"
   ]
  },
  {
   "cell_type": "code",
   "execution_count": 38,
   "id": "c397e27f",
   "metadata": {
    "scrolled": true
   },
   "outputs": [
    {
     "data": {
      "text/plain": [
       "<function matplotlib.pyplot.show(close=None, block=None)>"
      ]
     },
     "execution_count": 38,
     "metadata": {},
     "output_type": "execute_result"
    },
    {
     "data": {
      "image/png": "[encoded data removed]",
      "text/plain": [
       "<Figure size 432x288 with 1 Axes>"
      ]
     },
     "metadata": {
      "needs_background": "light"
     },
     "output_type": "display_data"
    }
   ],
   "source": [
    "#Creating an excel file for ease of testing        \n",
    "df = pd.DataFrame (uftbs)\n",
    "filepath = 'FTBS CFL=1.25.xlsx'\n",
    "df.to_excel(filepath, index=False)\n",
    "df2 = pd.DataFrame (uexact)\n",
    "filepath2 = 'exact CFL=1.25.xlsx'\n",
    "df2.to_excel(filepath2, index=False)\n",
    "df3 = pd.DataFrame (uftcs)\n",
    "filepath3 = 'FTCS CFL=1.25.xlsx'\n",
    "df3.to_excel(filepath3, index=False)\n",
    "df4 = pd.DataFrame (ulaxf)\n",
    "filepath4 = 'Lax-Friedrich CFL=1.25.xlsx'\n",
    "df4.to_excel(filepath4, index=False)\n",
    "#Creating the plots at t=0,2,5,10\n",
    "#plt.plot(x,uexact[t.index(0),:], label=\"Exact t=0\")\n",
    "#plt.plot(x,uexact[t.index(1.875),:], label=\"Exact t=1.875\")\n",
    "#plt.plot(x,uexact[t.index(2),:], label=\"Exact t=2\")\n",
    "#plt.plot(x,uexact[t.index(5),:], label=\"Exact t=5\")\n",
    "plt.plot(x,uexact[t.index(10),:], label=\"Exact t=10\")\n",
    "#plt.plot(x,uftbs[t.index(0),:], label=\"FTBS t=2\")\n",
    "#plt.plot(x,uftbs[t.index(1.875),:], label=\"FTBS t=1.875\")\n",
    "#plt.plot(x,uftbs[t.index(2),:], label=\"FTBS t=2\")\n",
    "#plt.plot(x,uftbs[t.index(5),:], label=\"FTBS t=5\")\n",
    "plt.plot(x,uftbs[t.index(10),:], label=\"FTBS t=10\")\n",
    "#plt.plot(x,uftcs[t.index(0),:], label=\"FTCS t=0\")\n",
    "#plt.plot(x,uftcs[t.index(1.875),:], label=\"FTCS t=1.875\")\n",
    "#plt.plot(x,uftcs[t.index(2),:], label=\"FTCS t=2\")\n",
    "#plt.plot(x,uftcs[t.index(5),:], label=\"FTCS t=5\")\n",
    "#plt.plot(x,uftcs[t.index(10),:], label=\"FTCS t=10\")\n",
    "#plt.plot(x,ulaxf[t.index(0),:], label=\"Lax t=0\")\n",
    "#plt.plot(x,ulaxf[t.index(1.875),:], label=\"Lax t=1.875\")\n",
    "#plt.plot(x,ulaxf[t.index(2),:], label=\"Lax t=2\")\n",
    "#plt.plot(x,ulaxf[t.index(5),:], label=\"Lax t=5\")\n",
    "#plt.plot(x,ulaxf[t.index(10),:], label=\"Lax t=10\")\n",
    "plt.legend()\n",
    "plt.savefig(\"FTBS plot CFL=1.25 only t=10.png\")\n",
    "plt.show"
   ]
  },
  {
   "cell_type": "code",
   "execution_count": null,
   "id": "7edec118",
   "metadata": {},
   "outputs": [],
   "source": []
  }
 ],
 "metadata": {
  "kernelspec": {
   "display_name": "Python 3 (ipykernel)",
   "language": "python",
   "name": "python3"
  },
  "language_info": {
   "codemirror_mode": {
    "name": "ipython",
    "version": 3
   },
   "file_extension": ".py",
   "mimetype": "text/x-python",
   "name": "python",
   "nbconvert_exporter": "python",
   "pygments_lexer": "ipython3",
   "version": "3.8.11"
  }
 },
 "nbformat": 4,
 "nbformat_minor": 5
}
