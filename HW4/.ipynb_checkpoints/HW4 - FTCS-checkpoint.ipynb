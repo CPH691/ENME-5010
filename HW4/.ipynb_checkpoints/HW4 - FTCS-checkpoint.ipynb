{
 "cells": [
  {
   "cell_type": "code",
   "execution_count": 47,
   "id": "1eb79652",
   "metadata": {},
   "outputs": [],
   "source": [
    "import numpy as np\n",
    "from matplotlib import pyplot as plt\n",
    "import pandas as pd"
   ]
  },
  {
   "cell_type": "code",
   "execution_count": 48,
   "id": "ef5f63c8",
   "metadata": {},
   "outputs": [],
   "source": [
    "# Setting up initial parameters\n",
    "dx = .25\n",
    "c = .5\n",
    "cfl = 1\n",
    "Nx = int(25/dx + 1)\n",
    "dt = (cfl*dx)/c\n",
    "Nt = int(10/dt + 1)"
   ]
  },
  {
   "cell_type": "code",
   "execution_count": 49,
   "id": "3ec72e62",
   "metadata": {},
   "outputs": [],
   "source": [
    "#Setting up initial conditions\n",
    "IC = []\n",
    "\n",
    "#Making a list of x and t\n",
    "x = [0]\n",
    "for i in range(1,Nx):\n",
    "    x.append(i*dx)\n",
    "t = [0]\n",
    "for i in range(1,Nt):\n",
    "    t.append(i*dt)\n",
    "\n",
    "#Creating initial conditions\n",
    "for i in range(0,Nx):\n",
    "    if 0<=x[i]<=3:\n",
    "        IC.append(x[i])\n",
    "    elif 3<=x[i]<=6:\n",
    "        IC.append(6-x[i])\n",
    "    else:\n",
    "        IC.append(0)"
   ]
  },
  {
   "cell_type": "code",
   "execution_count": 54,
   "id": "294e36ec",
   "metadata": {},
   "outputs": [],
   "source": [
    "#Creating the exact solution\n",
    "def exact(dx,c,cfl,Nx,dt,Nt,IC,x,t):\n",
    "    u = np.array(IC) #initalize u with the initial conditions\n",
    "    u = u[np.newaxis,:] #add the time axis to the previously 1D array\n",
    "    for n in range (0,Nt): #loop in time\n",
    "        u = np.vstack([u,np.zeros(Nx)]) #add the new row of 0's to be changed\n",
    "        for i in range (0,Nx): #loop in space\n",
    "            if (x[i] - c*dt) <0: #check to see if the location is left of the domain\n",
    "                u[n+1,i] = 0 #if so, point is 0\n",
    "            else:          \n",
    "                loc = x.index(x[i] - c*dt) #find the location of the exact point\n",
    "                u[n+1,i] = u[n,loc] #solve\n",
    "    return u\n",
    "\n",
    "def FTBS(dx,c,cfl,Nx,dt,Nt,IC,x,t):\n",
    "    u = np.array(IC) #initalize u with the initial conditions\n",
    "    u = u[np.newaxis,:] #add the time axis to the previously 1D array\n",
    "    for n in range (0,Nt): #loop in time\n",
    "        u = np.vstack([u,np.zeros(Nx)]) #add the new row of 0's to be changed\n",
    "        for i in range (0,Nx): #loop in space\n",
    "            u[n+1,i] = u[n,i] - cfl*(u[n,i]-u[n,i-1]) #FTBS\n",
    "    return u\n",
    "\n",
    "def FTCS(dx,c,cfl,Nx,dt,Nt,IC,x,t):\n",
    "    u = np.array(IC) #initalize u with the initial conditions\n",
    "    u = u[np.newaxis,:] #add the time axis to the previously 1D array\n",
    "    for n in range (0,Nt): #loop in time\n",
    "        u = np.vstack([u,np.zeros(Nx)]) #add the new row of 0's to be changed\n",
    "        for i in range (0,Nx): #loop in space\n",
    "            if i+1 >= Nx: #fixing index issue from i+1 reaching too high a value\n",
    "                u[n+1,i] = 0\n",
    "            else:\n",
    "                u[n+1,i] = u[n,i] - (cfl/2)*(u[n,i+1]-u[n,i-1]) #FTCS\n",
    "    return u\n",
    "    \n",
    "uexact = exact(dx,c,cfl,Nx,dt,Nt,IC,x,t)\n",
    "uftbs = FTBS(dx,c,cfl,Nx,dt,Nt,IC,x,t)\n",
    "uftcs = FTCS(dx,c,cfl,Nx,dt,Nt,IC,x,t)"
   ]
  },
  {
   "cell_type": "code",
   "execution_count": 62,
   "id": "c397e27f",
   "metadata": {},
   "outputs": [
    {
     "data": {
      "text/plain": [
       "<function matplotlib.pyplot.show(close=None, block=None)>"
      ]
     },
     "execution_count": 62,
     "metadata": {},
     "output_type": "execute_result"
    },
    {
     "data": {
      "image/png": "[encoded data removed]",
      "text/plain": [
       "<Figure size 432x288 with 1 Axes>"
      ]
     },
     "metadata": {
      "needs_background": "light"
     },
     "output_type": "display_data"
    }
   ],
   "source": [
    "#Creating an excel file for ease of testing        \n",
    "df = pd.DataFrame (uftcs)\n",
    "filepath = 'testing.xlsx'\n",
    "df.to_excel(filepath, index=False)\n",
    "#Creating the plots at t=0,2,5,10\n",
    "#plt.plot(x,uexact[t.index(0),:])\n",
    "#plt.plot(x,uexact[t.index(2),:])\n",
    "#plt.plot(x,uexact[t.index(5),:])\n",
    "#plt.plot(x,uexact[t.index(10),:])\n",
    "#plt.plot(x,uftbs[t.index(0),:])\n",
    "#plt.plot(x,uftbs[t.index(2),:])\n",
    "#plt.plot(x,uftbs[t.index(5),:])\n",
    "#plt.plot(x,uftbs[t.index(10),:])\n",
    "plt.plot(x,uftcs[t.index(0),:])\n",
    "plt.plot(x,uftcs[t.index(2),:])\n",
    "plt.plot(x,uftcs[t.index(5),:])\n",
    "#plt.plot(x,uftcs[t.index(10),:])\n",
    "plt.show"
   ]
  },
  {
   "cell_type": "code",
   "execution_count": null,
   "id": "7edec118",
   "metadata": {},
   "outputs": [],
   "source": []
  }
 ],
 "metadata": {
  "kernelspec": {
   "display_name": "Python 3 (ipykernel)",
   "language": "python",
   "name": "python3"
  },
  "language_info": {
   "codemirror_mode": {
    "name": "ipython",
    "version": 3
   },
   "file_extension": ".py",
   "mimetype": "text/x-python",
   "name": "python",
   "nbconvert_exporter": "python",
   "pygments_lexer": "ipython3",
   "version": "3.8.11"
  }
 },
 "nbformat": 4,
 "nbformat_minor": 5
}
