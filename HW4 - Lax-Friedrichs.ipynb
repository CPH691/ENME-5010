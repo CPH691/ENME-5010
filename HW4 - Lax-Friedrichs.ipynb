{
 "cells": [
  {
   "cell_type": "code",
   "execution_count": 94,
   "id": "1eb79652",
   "metadata": {},
   "outputs": [],
   "source": [
    "import numpy as np\n",
    "from matplotlib import pyplot as plt\n",
    "import pandas as pd"
   ]
  },
  {
   "cell_type": "code",
   "execution_count": 95,
   "id": "ef5f63c8",
   "metadata": {},
   "outputs": [],
   "source": [
    "# Setting up initial parameters\n",
    "dx = .25\n",
    "c = .5\n",
    "cfl = 1\n",
    "Nx = int(25/dx + 1)\n",
    "dt = (cfl*dx)/c\n",
    "Nt = int(10/dt + 1)"
   ]
  },
  {
   "cell_type": "code",
   "execution_count": 96,
   "id": "3ec72e62",
   "metadata": {},
   "outputs": [
    {
     "name": "stdout",
     "output_type": "stream",
     "text": [
      "[0, 0.25, 0.5, 0.75, 1.0, 1.25, 1.5, 1.75, 2.0, 2.25, 2.5, 2.75, 3.0, 3.25, 3.5, 3.75, 4.0, 4.25, 4.5, 4.75, 5.0, 5.25, 5.5, 5.75, 6.0, 6.25, 6.5, 6.75, 7.0, 7.25, 7.5, 7.75, 8.0, 8.25, 8.5, 8.75, 9.0, 9.25, 9.5, 9.75, 10.0, 10.25, 10.5, 10.75, 11.0, 11.25, 11.5, 11.75, 12.0, 12.25, 12.5, 12.75, 13.0, 13.25, 13.5, 13.75, 14.0, 14.25, 14.5, 14.75, 15.0, 15.25, 15.5, 15.75, 16.0, 16.25, 16.5, 16.75, 17.0, 17.25, 17.5, 17.75, 18.0, 18.25, 18.5, 18.75, 19.0, 19.25, 19.5, 19.75, 20.0, 20.25, 20.5, 20.75, 21.0, 21.25, 21.5, 21.75, 22.0, 22.25, 22.5, 22.75, 23.0, 23.25, 23.5, 23.75, 24.0, 24.25, 24.5, 24.75, 25.0]\n",
      "[0, 0.5, 1.0, 1.5, 2.0, 2.5, 3.0, 3.5, 4.0, 4.5, 5.0, 5.5, 6.0, 6.5, 7.0, 7.5, 8.0, 8.5, 9.0, 9.5, 10.0]\n"
     ]
    }
   ],
   "source": [
    "#Setting up initial conditions\n",
    "IC = []\n",
    "\n",
    "#Making a list of x and t\n",
    "x = [0]\n",
    "for i in range(1,Nx):\n",
    "    x.append(i*dx)\n",
    "print(x)\n",
    "t = [0]\n",
    "for i in range(1,Nt):\n",
    "    t.append(i*dt)\n",
    "print(t)\n",
    "#Creating initial conditions\n",
    "for i in range(0,Nx):\n",
    "    if 0<=x[i]<=3:\n",
    "        IC.append(x[i])\n",
    "    elif 3<=x[i]<=6:\n",
    "        IC.append(6-x[i])\n",
    "    else:\n",
    "        IC.append(0)"
   ]
  },
  {
   "cell_type": "code",
   "execution_count": 97,
   "id": "294e36ec",
   "metadata": {},
   "outputs": [],
   "source": [
    "#Creating the exact solution\n",
    "def exact(dx,c,cfl,Nx,dt,Nt,IC,x,t):\n",
    "    u = np.array(IC) #initalize u with the initial conditions\n",
    "    u = u[np.newaxis,:] #add the time axis to the previously 1D array\n",
    "    for n in range (0,Nt): #loop in time\n",
    "        u = np.vstack([u,np.zeros(Nx)]) #add the new row of 0's to be changed\n",
    "        for i in range (0,Nx): #loop in space\n",
    "            if (x[i] - c*dt) <0: #check to see if the location is left of the domain\n",
    "                u[n+1,i] = 0 #if so, point is 0\n",
    "            else:          \n",
    "                loc = x.index(x[i] - c*dt) #find the location of the exact point\n",
    "                u[n+1,i] = u[n,loc] #solve\n",
    "    return u\n",
    "\n",
    "def FTBS(dx,c,cfl,Nx,dt,Nt,IC,x,t):\n",
    "    u = np.array(IC) #initalize u with the initial conditions\n",
    "    u = u[np.newaxis,:] #add the time axis to the previously 1D array\n",
    "    for n in range (0,Nt): #loop in time\n",
    "        u = np.vstack([u,np.zeros(Nx)]) #add the new row of 0's to be changed\n",
    "        for i in range (0,Nx): #loop in space\n",
    "            u[n+1,i] = u[n,i] - cfl*(u[n,i]-u[n,i-1]) #FTBS\n",
    "    return u\n",
    "\n",
    "def FTCS(dx,c,cfl,Nx,dt,Nt,IC,x,t):\n",
    "    u = np.array(IC) #initalize u with the initial conditions\n",
    "    u = u[np.newaxis,:] #add the time axis to the previously 1D array\n",
    "    for n in range (0,Nt): #loop in time\n",
    "        u = np.vstack([u,np.zeros(Nx)]) #add the new row of 0's to be changed\n",
    "        for i in range (0,Nx): #loop in space\n",
    "            if i+1 >= Nx: #fixing index issue from i+1 reaching too high a value\n",
    "                u[n+1,i] = 0\n",
    "            else:\n",
    "                u[n+1,i] = u[n,i] - (cfl/2)*(u[n,i+1]-u[n,i-1]) #FTCS\n",
    "    return u\n",
    "\n",
    "def LAXF(dx,c,cfl,Nx,dt,Nt,IC,x,t):\n",
    "    u = np.array(IC) #initalize u with the initial conditions\n",
    "    u = u[np.newaxis,:] #add the time axis to the previously 1D array\n",
    "    for n in range (0,Nt): #loop in time\n",
    "        u = np.vstack([u,np.zeros(Nx)]) #add the new row of 0's to be changed\n",
    "        for i in range (0,Nx): #loop in space\n",
    "            if i+1 >= Nx: #fixing index issue from i+1 reaching too high a value\n",
    "                u[n+1,i] = 0\n",
    "            else:\n",
    "                u[n+1,i] = (.5)*(u[n,i+1] + u[n,i-1]) - (cfl/2)*(u[n,i+1]-u[n,i-1]) #Lax-Friedrichs\n",
    "    return u\n",
    "\n",
    "uexact = exact(dx,c,cfl,Nx,dt,Nt,IC,x,t)\n",
    "uftbs = FTBS(dx,c,cfl,Nx,dt,Nt,IC,x,t)\n",
    "uftcs = FTCS(dx,c,cfl,Nx,dt,Nt,IC,x,t)\n",
    "ulaxf = LAXF(dx,c,cfl,Nx,dt,Nt,IC,x,t)"
   ]
  },
  {
   "cell_type": "code",
   "execution_count": 101,
   "id": "c397e27f",
   "metadata": {
    "scrolled": true
   },
   "outputs": [
    {
     "data": {
      "text/plain": [
       "<function matplotlib.pyplot.show(close=None, block=None)>"
      ]
     },
     "execution_count": 101,
     "metadata": {},
     "output_type": "execute_result"
    },
    {
     "data": {
      "image/png": "[encoded data removed]",
      "text/plain": [
       "<Figure size 432x288 with 1 Axes>"
      ]
     },
     "metadata": {
      "needs_background": "light"
     },
     "output_type": "display_data"
    }
   ],
   "source": [
    "#Creating an excel file for ease of testing        \n",
    "df = pd.DataFrame (uftcs)\n",
    "filepath = 'testing.xlsx'\n",
    "df.to_excel(filepath, index=False)\n",
    "#Creating the plots at t=0,2,5,10\n",
    "plt.plot(x,uexact[t.index(0),:])\n",
    "plt.plot(x,uexact[t.index(2),:])\n",
    "plt.plot(x,uexact[t.index(5),:])\n",
    "plt.plot(x,uexact[t.index(10),:])\n",
    "#plt.plot(x,uftbs[t.index(0),:])\n",
    "#plt.plot(x,uftbs[t.index(5),:])\n",
    "#plt.plot(x,uftbs[t.index(5),:])\n",
    "#plt.plot(x,uftbs[t.index(10),:])\n",
    "#plt.plot(x,uftcs[t.index(0),:])\n",
    "#plt.plot(x,uftcs[t.index(5),:])\n",
    "#plt.plot(x,uftcs[t.index(5),:])\n",
    "#plt.plot(x,uftcs[t.index(10),:])\n",
    "plt.plot(x,ulaxf[t.index(0),:])\n",
    "plt.plot(x,ulaxf[t.index(5),:])\n",
    "plt.plot(x,ulaxf[t.index(5),:])\n",
    "plt.plot(x,ulaxf[t.index(10),:])\n",
    "plt.show"
   ]
  },
  {
   "cell_type": "code",
   "execution_count": null,
   "id": "7edec118",
   "metadata": {},
   "outputs": [],
   "source": []
  }
 ],
 "metadata": {
  "kernelspec": {
   "display_name": "Python 3 (ipykernel)",
   "language": "python",
   "name": "python3"
  },
  "language_info": {
   "codemirror_mode": {
    "name": "ipython",
    "version": 3
   },
   "file_extension": ".py",
   "mimetype": "text/x-python",
   "name": "python",
   "nbconvert_exporter": "python",
   "pygments_lexer": "ipython3",
   "version": "3.8.11"
  }
 },
 "nbformat": 4,
 "nbformat_minor": 5
}
